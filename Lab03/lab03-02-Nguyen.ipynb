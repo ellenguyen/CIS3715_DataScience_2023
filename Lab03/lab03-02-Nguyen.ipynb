{
 "cells": [
  {
   "cell_type": "code",
   "execution_count": 15,
   "id": "ac1a37ba",
   "metadata": {},
   "outputs": [
    {
     "name": "stdout",
     "output_type": "stream",
     "text": [
      "age           int64\n",
      "sex          object\n",
      "bmi         float64\n",
      "children      int64\n",
      "smoker       object\n",
      "region       object\n",
      "charges     float64\n",
      "dtype: object\n"
     ]
    }
   ],
   "source": [
    "# Elle Nguyen - CIS 3715 - Section 02\n",
    "# Lab 3: Linear Regression\n",
    "\n",
    "import pandas as pd\n",
    "import numpy as np\n",
    "from sklearn.preprocessing import LabelEncoder\n",
    "from sklearn.model_selection import train_test_split\n",
    "from sklearn.preprocessing import StandardScaler\n",
    "from sklearn.linear_model import LinearRegression, Ridge, Lasso\n",
    "from sklearn.metrics import mean_absolute_error,mean_squared_error\n",
    "import matplotlib.pyplot as plt\n",
    "\n",
    "df = pd.read_csv('~/Downloads/insurance.csv')\n",
    "print(df.dtypes)"
   ]
  },
  {
   "cell_type": "code",
   "execution_count": 16,
   "id": "b5c62385",
   "metadata": {},
   "outputs": [
    {
     "name": "stdout",
     "output_type": "stream",
     "text": [
      "age         0\n",
      "sex         0\n",
      "bmi         0\n",
      "children    0\n",
      "smoker      0\n",
      "region      0\n",
      "charges     0\n",
      "dtype: int64\n",
      "<class 'pandas.core.frame.DataFrame'>\n",
      "RangeIndex: 1338 entries, 0 to 1337\n",
      "Data columns (total 7 columns):\n",
      " #   Column    Non-Null Count  Dtype  \n",
      "---  ------    --------------  -----  \n",
      " 0   age       1338 non-null   int64  \n",
      " 1   sex       1338 non-null   int64  \n",
      " 2   bmi       1338 non-null   float64\n",
      " 3   children  1338 non-null   int64  \n",
      " 4   smoker    1338 non-null   int64  \n",
      " 5   region    1338 non-null   int64  \n",
      " 6   charges   1338 non-null   float64\n",
      "dtypes: float64(2), int64(5)\n",
      "memory usage: 73.3 KB\n",
      "None\n"
     ]
    }
   ],
   "source": [
    "# Task 2.1 - Preprocess the raw data\n",
    "# There are no missing values in the dataset\n",
    "print(df.isnull().sum())\n",
    "\n",
    "# Convert categorical features to numerical features using Label Encoder\n",
    "labelencoder = LabelEncoder()\n",
    "df['sex'] = labelencoder.fit_transform(df['sex'])\n",
    "df['smoker'] = labelencoder.fit_transform(df['smoker'])\n",
    "df['region'] = labelencoder.fit_transform(df['region'])\n",
    "print(df.info())"
   ]
  },
  {
   "cell_type": "code",
   "execution_count": 17,
   "id": "c259e8df",
   "metadata": {},
   "outputs": [
    {
     "name": "stdout",
     "output_type": "stream",
     "text": [
      "(1070, 6)\n",
      "(268, 6)\n"
     ]
    }
   ],
   "source": [
    "# Task 2.2 - Split the preprocessed dataset into training set and testing set\n",
    "insurance_fea = df.drop('charges', axis=1).values\n",
    "insurance_price = df['charges'].values\n",
    "insurance_price = insurance_price / np.max(insurance_price)\n",
    "\n",
    "X_train, X_test, y_train, y_test = train_test_split(insurance_fea,\n",
    "                                                    insurance_price,\n",
    "                                                    test_size=0.2,\n",
    "                                                    random_state=42)\n",
    "\n",
    "print(X_train.shape) # 80% training\n",
    "print(X_test.shape) # 20% testing\n",
    "\n",
    "# Normalize features using Min-max scaling\n",
    "normalizer = StandardScaler()\n",
    "X_train = normalizer.fit_transform(X_train)\n",
    "X_test = normalizer.transform(X_test)"
   ]
  },
  {
   "cell_type": "code",
   "execution_count": 18,
   "id": "0eea1f19",
   "metadata": {},
   "outputs": [
    {
     "name": "stdout",
     "output_type": "stream",
     "text": [
      "bias is 0.20928336460705027\n",
      "coefficients  is [ 5.67051024e-02 -1.47293258e-04  3.18064131e-02  8.10191467e-03\n",
      "  1.49867951e-01 -4.74182139e-03]\n",
      "Prediction for training set:\n",
      "MAE is: 0.0659986479709151\n",
      "MSE is: 0.00916737434945697\n",
      "RMSE is: 0.09574640645714579\n"
     ]
    }
   ],
   "source": [
    "# Task 2.3 - Train the linear regression model\n",
    "lr = LinearRegression()\n",
    "\n",
    "lr.fit(X_train, y_train)\n",
    "\n",
    "print(\"bias is \" + str(lr.intercept_))\n",
    "print(\"coefficients  is \" + str(lr.coef_))\n",
    "\n",
    "y_train_pred = lr.predict(X_train)\n",
    "\n",
    "mae = mean_absolute_error(y_train_pred, y_train)\n",
    "mse = mean_squared_error(y_train_pred, y_train)\n",
    "rmse = np.sqrt(mse)\n",
    "\n",
    "print('Prediction for training set:')\n",
    "print('MAE is: {}'.format(mae))\n",
    "print('MSE is: {}'.format(mse))\n",
    "print('RMSE is: {}'.format(rmse))"
   ]
  },
  {
   "cell_type": "code",
   "execution_count": 19,
   "id": "f97b27aa",
   "metadata": {},
   "outputs": [
    {
     "name": "stdout",
     "output_type": "stream",
     "text": [
      "prediction for testing set:\n",
      "MAE is: 0.06564969107169769\n",
      "MSE is: 0.008270951713078178\n",
      "RMSE is: 0.09094477287386109\n"
     ]
    },
    {
     "data": {
      "image/png": "[encoded data removed]",
      "text/plain": [
       "<Figure size 640x480 with 1 Axes>"
      ]
     },
     "metadata": {},
     "output_type": "display_data"
    }
   ],
   "source": [
    "# Task 2.4 - Evaluate the linear regression model\n",
    "y_test_pred = lr.predict(X_test)\n",
    "\n",
    "mae = mean_absolute_error(y_test_pred, y_test)\n",
    "mse = mean_squared_error(y_test_pred, y_test)\n",
    "rmse = np.sqrt(mse)\n",
    "\n",
    "print('prediction for testing set:')\n",
    "print('MAE is: {}'.format(mae))\n",
    "print('MSE is: {}'.format(mse))\n",
    "print('RMSE is: {}'.format(rmse))\n",
    "\n",
    "# Plotting the model\n",
    "labels = ['Charge1', 'Charge2', 'Charge3', 'Charge4', 'Charge5']\n",
    "x = np.arange(len(labels))  # the label locations\n",
    "width = 0.35  # the width of the bars\n",
    "\n",
    "fig, ax = plt.subplots()\n",
    "rects1 = ax.bar(x - width/2, y_test[0:5], width, label='ground truth')\n",
    "rects2 = ax.bar(x + width/2, y_test_pred[0:5], width, label='prediction')\n",
    "\n",
    "ax.set_ylabel('Insurance')\n",
    "ax.set_xticks(x)\n",
    "ax.set_xticklabels(labels)\n",
    "ax.legend()\n",
    "\n",
    "plt.show()"
   ]
  },
  {
   "cell_type": "code",
   "execution_count": 20,
   "id": "3e765de4",
   "metadata": {},
   "outputs": [
    {
     "name": "stdout",
     "output_type": "stream",
     "text": [
      "\n",
      "\tRidge regression model on testing set with λ = 0.1 \n",
      "\n",
      "bias is 0.20623034165711565\n",
      "coefficients  is [ 0.05578254 -0.00409918  0.03045483  0.01473067  0.1558987  -0.01318723]\n",
      "prediction for testing set:\n",
      "MAE is: 0.0625508468691187\n",
      "MSE is: 0.008115272552700668\n",
      "RMSE is: 0.09008480755766017\n",
      "\n",
      "\tRidge regression model on testing set with λ = 0.5 \n",
      "\n",
      "bias is 0.20622713436075507\n",
      "coefficients  is [ 0.05572353 -0.00407088  0.03041887  0.01469838  0.15566479 -0.01315549]\n",
      "prediction for testing set:\n",
      "MAE is: 0.0625787659895883\n",
      "MSE is: 0.008115366162213257\n",
      "RMSE is: 0.09008532711942194\n",
      "\n",
      "\tRidge regression model on testing set with λ = 1 \n",
      "\n",
      "bias is 0.206223131807873\n",
      "coefficients  is [ 0.0556499  -0.00403572  0.03037407  0.01465821  0.1553734  -0.01311601]\n",
      "prediction for testing set:\n",
      "MAE is: 0.06261353465392547\n",
      "MSE is: 0.00811565728025067\n",
      "RMSE is: 0.09008694289546443\n",
      "\n",
      "\tRidge regression model on testing set with λ = 2 \n",
      "\n",
      "bias is 0.20621514867215437\n",
      "coefficients  is [ 0.05550308 -0.00396611  0.03028491  0.0145785   0.15479396 -0.01303768]\n",
      "prediction for testing set:\n",
      "MAE is: 0.06268595452519546\n",
      "MSE is: 0.008116811714502795\n",
      "RMSE is: 0.09009335000155558\n",
      "\n",
      "\tRidge regression model on testing set with λ = 3 \n",
      "\n",
      "bias is 0.20620719495933007\n",
      "coefficients  is [ 0.05535686 -0.00389744  0.03019637  0.01449961  0.15421892 -0.0129602 ]\n",
      "prediction for testing set:\n",
      "MAE is: 0.06276010677629273\n",
      "MSE is: 0.00811871500610486\n",
      "RMSE is: 0.09010391226858498\n",
      "\n",
      "\tRidge regression model on testing set with λ = 4 \n",
      "\n",
      "bias is 0.20619927081412087\n",
      "coefficients  is [ 0.05521123 -0.00382968  0.03010843  0.01442153  0.15364824 -0.01288354]\n",
      "prediction for testing set:\n",
      "MAE is: 0.06284076185188817\n",
      "MSE is: 0.008121350599754738\n",
      "RMSE is: 0.09011853638267067\n",
      "\n",
      "\tRidge regression model on testing set with λ = 5 \n",
      "\n",
      "bias is 0.20619137636947027\n",
      "coefficients  is [ 0.05506619 -0.00376284  0.0300211   0.01434424  0.15308185 -0.01280769]\n",
      "prediction for testing set:\n",
      "MAE is: 0.06292100537977369\n",
      "MSE is: 0.008124702311929497\n",
      "RMSE is: 0.09013713059516315\n"
     ]
    }
   ],
   "source": [
    "# Task 2.5 - Use ridge regression model to do prediction\n",
    "# Ridge regression model with different λ values to determine the performance\n",
    "list_lambda = [0.1, 0.5, 1, 2, 3, 4, 5]\n",
    "for i in range(0, len(list_lambda)):\n",
    "    print(\"\\n\\tRidge regression model on testing set with λ =\", list_lambda[i], \"\\n\")\n",
    "    lr = Ridge(alpha=list_lambda[i])\n",
    "    lr.fit(X_test, y_test)\n",
    "\n",
    "    print(\"bias is \" + str(lr.intercept_))\n",
    "    print(\"coefficients  is \" + str(lr.coef_))\n",
    "\n",
    "    y_test_pred = lr.predict(X_test)\n",
    "\n",
    "    mae = mean_absolute_error(y_test_pred, y_test)\n",
    "    mse = mean_squared_error(y_test_pred, y_test)\n",
    "    rmse = np.sqrt(mse)\n",
    "\n",
    "    print('prediction for testing set:')\n",
    "    print('MAE is: {}'.format(mae))\n",
    "    print('MSE is: {}'.format(mse))\n",
    "    print('RMSE is: {}'.format(rmse))"
   ]
  },
  {
   "cell_type": "markdown",
   "id": "c9ca0f75",
   "metadata": {},
   "source": [
    "-> Conclusion:\n",
    "- As λ is increasing, the errors (MAE, MSE, RMSE) are getting bigger with the performance getting worse and worse.\n",
    "- By setting λ < 1, the coefficients are increasing but λ > 1 forces the coefficients to be lower. They are all going as close as possible to 0 but never equal to 0.\n",
    "- Comparing to Standard Linear Regression model, I think Ridge Regression produced a lower test error to avoid overfitting, hence better performance on the testing set."
   ]
  }
 ],
 "metadata": {
  "kernelspec": {
   "display_name": "Python 3 (ipykernel)",
   "language": "python",
   "name": "python3"
  },
  "language_info": {
   "codemirror_mode": {
    "name": "ipython",
    "version": 3
   },
   "file_extension": ".py",
   "mimetype": "text/x-python",
   "name": "python",
   "nbconvert_exporter": "python",
   "pygments_lexer": "ipython3",
   "version": "3.9.13"
  }
 },
 "nbformat": 4,
 "nbformat_minor": 5
}

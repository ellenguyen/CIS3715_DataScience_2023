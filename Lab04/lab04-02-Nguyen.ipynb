{
 "cells": [
  {
   "cell_type": "code",
   "execution_count": 1,
   "id": "c568d789",
   "metadata": {},
   "outputs": [],
   "source": [
    "# Elle Nguyen - CIS 3715 - Section 02\n",
    "# Lab 4 - Logistic Regression\n",
    "\n",
    "import numpy as np\n",
    "import pandas as pd\n",
    "from sklearn.model_selection import train_test_split\n",
    "from sklearn import datasets\n",
    "from sklearn.preprocessing import StandardScaler\n",
    "from sklearn.linear_model import LogisticRegression\n",
    "from sklearn.metrics import accuracy_score\n",
    "from sklearn.metrics import f1_score\n",
    "from sklearn.metrics import recall_score\n",
    "from sklearn.metrics import precision_score\n",
    "from random import shuffle\n",
    "import matplotlib.pyplot as plt\n",
    "import random\n",
    "random.seed(123)\n",
    "\n",
    "df = pd.read_csv('~/Downloads/heart.csv')"
   ]
  },
  {
   "cell_type": "code",
   "execution_count": 2,
   "id": "2e1716fb",
   "metadata": {},
   "outputs": [
    {
     "name": "stdout",
     "output_type": "stream",
     "text": [
      "age         0\n",
      "sex         0\n",
      "cp          0\n",
      "trestbps    0\n",
      "chol        0\n",
      "fbs         0\n",
      "restecg     0\n",
      "thalach     0\n",
      "exang       0\n",
      "oldpeak     0\n",
      "slope       0\n",
      "ca          0\n",
      "thal        0\n",
      "target      0\n",
      "dtype: int64\n",
      "\n",
      "There are no missing values in this dataset.\n",
      "\n",
      "<class 'pandas.core.frame.DataFrame'>\n",
      "RangeIndex: 303 entries, 0 to 302\n",
      "Data columns (total 14 columns):\n",
      " #   Column    Non-Null Count  Dtype  \n",
      "---  ------    --------------  -----  \n",
      " 0   age       303 non-null    int64  \n",
      " 1   sex       303 non-null    int64  \n",
      " 2   cp        303 non-null    int64  \n",
      " 3   trestbps  303 non-null    int64  \n",
      " 4   chol      303 non-null    int64  \n",
      " 5   fbs       303 non-null    int64  \n",
      " 6   restecg   303 non-null    int64  \n",
      " 7   thalach   303 non-null    int64  \n",
      " 8   exang     303 non-null    int64  \n",
      " 9   oldpeak   303 non-null    float64\n",
      " 10  slope     303 non-null    int64  \n",
      " 11  ca        303 non-null    int64  \n",
      " 12  thal      303 non-null    int64  \n",
      " 13  target    303 non-null    int64  \n",
      "dtypes: float64(1), int64(13)\n",
      "memory usage: 33.3 KB\n",
      "None\n",
      "\n",
      "There are no categorical features in this dataset.\n",
      "\n"
     ]
    }
   ],
   "source": [
    "# Task 2.1 - Preprocess the raw data\n",
    "\n",
    "# Check whether there are missing values\n",
    "print(df.isnull().sum())\n",
    "print(\"\\nThere are no missing values in this dataset.\\n\")\n",
    "\n",
    "# Check whether there are categorical features\n",
    "print(df.info())\n",
    "print(\"\\nThere are no categorical features in this dataset.\\n\")"
   ]
  },
  {
   "cell_type": "code",
   "execution_count": 3,
   "id": "04ff0480",
   "metadata": {},
   "outputs": [
    {
     "data": {
      "image/png": "[encoded data removed]",
      "text/plain": [
       "<Figure size 640x480 with 1 Axes>"
      ]
     },
     "metadata": {},
     "output_type": "display_data"
    },
    {
     "name": "stdout",
     "output_type": "stream",
     "text": [
      "The dataset is balanced\n"
     ]
    }
   ],
   "source": [
    "# Check whether this dataset is balanced or not\n",
    "# (use the bar plot to visualize the number of positive and negative samples)\n",
    "\n",
    "# Count the number of positive and negative samples\n",
    "counts = df['target'].value_counts()\n",
    "\n",
    "# Plot the counts using a bar plot\n",
    "plt.bar(counts.index, counts.values)\n",
    "plt.title('Number of People With and Without Heart Disease')\n",
    "plt.xticks(counts.index, ['Negative', 'Positive'])\n",
    "plt.show()\n",
    "\n",
    "print(\"The dataset is balanced\")"
   ]
  },
  {
   "cell_type": "code",
   "execution_count": 4,
   "id": "a8e6e7f1",
   "metadata": {},
   "outputs": [
    {
     "name": "stdout",
     "output_type": "stream",
     "text": [
      "train_val: 260, test: 43\n"
     ]
    }
   ],
   "source": [
    "# Task 2.2 - Split the data into 2 subsets and normalize the features of samples\n",
    "heart_data = df.drop('target', axis=1).values\n",
    "heart_disease = df['target'].values\n",
    "X_train_val, X_test, y_train_val, y_test = train_test_split(heart_data, heart_disease, \n",
    "                                                            test_size=0.14, \n",
    "                                                            random_state=0)\n",
    "print(\"train_val: {}, test: {}\".format(X_train_val.shape[0], X_test.shape[0]))\n",
    "\n",
    "normalizer = StandardScaler()\n",
    "X_train_val = normalizer.fit_transform(X_train_val)\n",
    "X_test = normalizer.transform(X_test)"
   ]
  },
  {
   "cell_type": "code",
   "execution_count": 5,
   "id": "f95e1470",
   "metadata": {},
   "outputs": [
    {
     "name": "stdout",
     "output_type": "stream",
     "text": [
      "[[ 63 221  54 104 121  98 149 205  31  29 190 243  25 180 142  38 173  94\n",
      "  148 186 159  24 204  64  75 201]\n",
      " [ 12 160 109  61 242 102 129  72 233  56 217  14 219 239   6  57  70 158\n",
      "   35 216 140 181 106  92 117 112]\n",
      " [ 50 127  19 236 153 164 177 105  76 213  28 178 138 200 226  84 119  77\n",
      "  176 151  83 172 154  16  89  82]\n",
      " [ 37 210 197 115 135  66   7 206 256  30 183  47 167 188  91 125 174  20\n",
      "  249 212 108 257  53  42  71 169]\n",
      " [162  60  33 235 157  51  81  88 192 207 161  68 194 225 222  55  10 147\n",
      "  132 145 184 237  79 254 234 182]\n",
      " [191  69 156  65 253  49 166 241   2 220 118 227 113 189  39  45 215 139\n",
      "   59 126  73  15 128 255 103  58]\n",
      " [ 90 195  93 252 150  48   4 251 211  99 116  18 100 141 240 238  43 209\n",
      "  168 185  21  46 193   8 130  95]\n",
      " [107 171 203 124 228 244 199 248 175 232 131 165 101   3 229 144 134 163\n",
      "  155  52 123 133 245  78 196 250]\n",
      " [120  67 122 146 110  74   5 202  32  36 170  23  11 259 114 187  80   1\n",
      "   17  96 152 224  22 198 111 231]\n",
      " [  0  41  62 179 246 247  86  34  40  13 218  87  85 143 258  97   9 223\n",
      "  230 214  27 136 208  44 137  26]]\n",
      "reg_coeff: 99999.99999999999, acc: 0.554\n",
      "reg_coeff: 10000.0, acc: 0.554\n",
      "reg_coeff: 1000.0, acc: 0.688\n",
      "reg_coeff: 100.0, acc: 0.831\n",
      "reg_coeff: 10.0, acc: 0.823\n",
      "reg_coeff: 1.0, acc: 0.823\n",
      "reg_coeff: 0.1, acc: 0.827\n",
      "reg_coeff: 0.05, acc: 0.827\n",
      "reg_coeff: 0.02, acc: 0.827\n",
      "reg_coeff: 0.01, acc: 0.827\n",
      "The best hyperparameter is 0.01\n"
     ]
    }
   ],
   "source": [
    "# Task 2.3 - Train the logistic regression model and select the hyperparameter with cross-validation\n",
    "\n",
    "# Use the 10-fold cross-validation to select the hyperparameter λ\n",
    "folds = 10\n",
    "\n",
    "# get the number of samples in the training and validation set\n",
    "num_train_val = X_train_val.shape[0] \n",
    "\n",
    "# shuffle the index of samples in the train_val set\n",
    "index_of_samples = np.arange(num_train_val) \n",
    "shuffle(index_of_samples)\n",
    "\n",
    "# split the index of the train_valid set into 10 folds\n",
    "index_of_folds = index_of_samples.reshape(folds, -1)\n",
    "print(index_of_folds)\n",
    "\n",
    "# Search λ\n",
    "regularization_coefficient = [0.00001, 0.0001, 0.001, 0.01, 0.1, 1, 10, 20, 50, 100]\n",
    "\n",
    "best_acc = 0.0\n",
    "best_reg = 0.0\n",
    "\n",
    "for reg in regularization_coefficient:\n",
    "    \n",
    "    # 10-fold cross-validation\n",
    "    sum_acc = 0.0\n",
    "    for fold in range(folds):\n",
    "        \n",
    "        index_of_folds_temp = index_of_folds.copy()\n",
    "        \n",
    "        valid_index = index_of_folds_temp[fold,:].reshape(-1) #get the index of the validation set\n",
    "        train_index = np.delete(index_of_folds_temp, fold, 0).reshape(-1) #get the index of the training set\n",
    "        \n",
    "        # training set\n",
    "        X_train = X_train_val[train_index]\n",
    "        y_train = y_train_val[train_index]\n",
    "        \n",
    "        # validation set\n",
    "        X_valid = X_train_val[valid_index]\n",
    "        y_valid = y_train_val[valid_index]\n",
    "                \n",
    "        # build the model with different hyperparameters\n",
    "        clf = LogisticRegression(penalty='l2', C=reg, solver='lbfgs')\n",
    "        \n",
    "        #train the model with the training set\n",
    "        clf.fit(X_train, y_train)\n",
    "        \n",
    "        y_valid_pred = clf.predict(X_valid)\n",
    "        acc = accuracy_score(y_valid, y_valid_pred)\n",
    "        \n",
    "        sum_acc += acc\n",
    "    \n",
    "    cur_acc = sum_acc / folds\n",
    "    \n",
    "    print(\"reg_coeff: {}, acc: {:.3f}\".format(1.0/reg, cur_acc))\n",
    "    \n",
    "    # store the best hyperparameter\n",
    "    if cur_acc > best_acc:\n",
    "        best_acc = cur_acc\n",
    "        best_reg = reg\n",
    "\n",
    "print(\"The best hyperparameter is {}\".format(best_reg))"
   ]
  },
  {
   "cell_type": "code",
   "execution_count": 6,
   "id": "3856c75c",
   "metadata": {},
   "outputs": [
    {
     "name": "stdout",
     "output_type": "stream",
     "text": [
      "accuracy: 0.791, recall: 0.905, precision: 0.731, f1: 0.809\n"
     ]
    }
   ],
   "source": [
    "# Task 2.4 - Evaluate the learned model\n",
    "\n",
    "# Report the prediction accuracy, recall, precision, and F1 score.\n",
    "# retrain the model\n",
    "clf = LogisticRegression(penalty='l2', C=best_reg, solver='lbfgs')\n",
    "clf.fit(X_train_val, y_train_val)\n",
    "\n",
    "# evaluate the model on the testing set\n",
    "y_test_pred = clf.predict(X_test)\n",
    "\n",
    "acc = accuracy_score(y_test, y_test_pred)\n",
    "f1 = f1_score(y_test, y_test_pred)\n",
    "recall = recall_score(y_test, y_test_pred)\n",
    "precision = precision_score(y_test, y_test_pred)\n",
    "\n",
    "print(\"accuracy: {:.3f}, recall: {:.3f}, precision: {:.3f}, f1: {:.3f}\".format(acc, recall, precision, f1))"
   ]
  },
  {
   "cell_type": "code",
   "execution_count": 7,
   "id": "c98e991f",
   "metadata": {},
   "outputs": [
    {
     "data": {
      "image/png": "[encoded data removed]",
      "text/plain": [
       "<Figure size 1000x800 with 1 Axes>"
      ]
     },
     "metadata": {},
     "output_type": "display_data"
    }
   ],
   "source": [
    "# Use the bar plot to visulaize the elements of the learned model parameter vector w\n",
    "# Some elements have larger absolute values, while the others do not. Try to explain this phenomenon.\n",
    "fig = plt.figure(figsize=(10,8))\n",
    "plt.title(\"Learned model parameter vector w\")\n",
    "plt.bar(df.columns[:-1], clf.coef_[0])\n",
    "plt.show()"
   ]
  },
  {
   "cell_type": "markdown",
   "id": "4e0b5143",
   "metadata": {},
   "source": [
    "-> Explanation: \n",
    "- The magnitude of each weight corresponds to the strength of the relationship between that feature and the target variable. Therefore, large absolute values indicate that those features have a strong influence on the predicted outcome. For example, cp (chest pain type) and ca (number of major vessels) have the highest absolute values. It's easy to predict which patient is likely to have a heart disease based on these data because such learned vectors hugely impact our prediction.\n",
    "- On the other hand, small absolute values indicate that the corresponding features have little to no effect on the outcome such as chol (serum cholestoral in mg/dl) and fbs (fasting blood sugar > 120 mg/dl); these features do not relate to heart disease, thus hard to make predictions."
   ]
  }
 ],
 "metadata": {
  "kernelspec": {
   "display_name": "Python 3 (ipykernel)",
   "language": "python",
   "name": "python3"
  },
  "language_info": {
   "codemirror_mode": {
    "name": "ipython",
    "version": 3
   },
   "file_extension": ".py",
   "mimetype": "text/x-python",
   "name": "python",
   "nbconvert_exporter": "python",
   "pygments_lexer": "ipython3",
   "version": "3.9.13"
  }
 },
 "nbformat": 4,
 "nbformat_minor": 5
}

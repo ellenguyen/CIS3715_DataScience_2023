{
 "cells": [
  {
   "cell_type": "code",
   "execution_count": 12,
   "id": "cc9139fb",
   "metadata": {},
   "outputs": [],
   "source": [
    "# Elle Nguyen - CIS 3715 - Section 02\n",
    "# Lab 5 - KNN\n",
    "\n",
    "import warnings\n",
    "warnings.simplefilter(action='ignore', category=FutureWarning)\n",
    "\n",
    "import numpy as np\n",
    "import pandas as pd\n",
    "from sklearn.model_selection import train_test_split\n",
    "from sklearn import datasets\n",
    "from sklearn.preprocessing import StandardScaler\n",
    "from sklearn.model_selection import GridSearchCV\n",
    "from sklearn.neighbors import KNeighborsClassifier\n",
    "from sklearn.metrics import accuracy_score, f1_score\n",
    "from sklearn.metrics import f1_score\n",
    "from sklearn.metrics import recall_score\n",
    "from sklearn.metrics import precision_score\n",
    "from random import shuffle\n",
    "import matplotlib.pyplot as plt\n",
    "import random\n",
    "random.seed(123)\n",
    "\n",
    "df = pd.read_csv('~/Downloads/heart.csv')"
   ]
  },
  {
   "cell_type": "code",
   "execution_count": 13,
   "id": "48506986",
   "metadata": {},
   "outputs": [
    {
     "name": "stdout",
     "output_type": "stream",
     "text": [
      "age         0\n",
      "sex         0\n",
      "cp          0\n",
      "trestbps    0\n",
      "chol        0\n",
      "fbs         0\n",
      "restecg     0\n",
      "thalach     0\n",
      "exang       0\n",
      "oldpeak     0\n",
      "slope       0\n",
      "ca          0\n",
      "thal        0\n",
      "target      0\n",
      "dtype: int64\n",
      "\n",
      "There are no missing values in this dataset.\n",
      "\n",
      "<class 'pandas.core.frame.DataFrame'>\n",
      "RangeIndex: 303 entries, 0 to 302\n",
      "Data columns (total 14 columns):\n",
      " #   Column    Non-Null Count  Dtype  \n",
      "---  ------    --------------  -----  \n",
      " 0   age       303 non-null    int64  \n",
      " 1   sex       303 non-null    int64  \n",
      " 2   cp        303 non-null    int64  \n",
      " 3   trestbps  303 non-null    int64  \n",
      " 4   chol      303 non-null    int64  \n",
      " 5   fbs       303 non-null    int64  \n",
      " 6   restecg   303 non-null    int64  \n",
      " 7   thalach   303 non-null    int64  \n",
      " 8   exang     303 non-null    int64  \n",
      " 9   oldpeak   303 non-null    float64\n",
      " 10  slope     303 non-null    int64  \n",
      " 11  ca        303 non-null    int64  \n",
      " 12  thal      303 non-null    int64  \n",
      " 13  target    303 non-null    int64  \n",
      "dtypes: float64(1), int64(13)\n",
      "memory usage: 33.3 KB\n",
      "None\n",
      "\n",
      "There are no categorical features in this dataset.\n",
      "\n"
     ]
    }
   ],
   "source": [
    "# Task 2.1 - Preprocess the raw data\n",
    "\n",
    "# Check whether there are missing values\n",
    "print(df.isnull().sum())\n",
    "print(\"\\nThere are no missing values in this dataset.\\n\")\n",
    "\n",
    "# Check whether there are categorical features\n",
    "print(df.info())\n",
    "print(\"\\nThere are no categorical features in this dataset.\\n\")"
   ]
  },
  {
   "cell_type": "code",
   "execution_count": 14,
   "id": "f7ef3d16",
   "metadata": {},
   "outputs": [
    {
     "data": {
      "image/png": "[encoded data removed]",
      "text/plain": [
       "<Figure size 640x480 with 1 Axes>"
      ]
     },
     "metadata": {},
     "output_type": "display_data"
    },
    {
     "name": "stdout",
     "output_type": "stream",
     "text": [
      "The dataset is balanced\n"
     ]
    }
   ],
   "source": [
    "# Check whether this dataset is balanced or not\n",
    "# (use the bar plot to visualize the number of positive and negative samples)\n",
    "\n",
    "# Count the number of positive and negative samples\n",
    "counts = df['target'].value_counts()\n",
    "\n",
    "# Plot the counts using a bar plot\n",
    "plt.bar(counts.index, counts.values)\n",
    "plt.title('Number of People With and Without Heart Disease')\n",
    "plt.xticks(counts.index, ['Negative', 'Positive'])\n",
    "plt.show()\n",
    "\n",
    "print(\"The dataset is balanced\")"
   ]
  },
  {
   "cell_type": "code",
   "execution_count": 15,
   "id": "9f7c5b17",
   "metadata": {},
   "outputs": [
    {
     "name": "stdout",
     "output_type": "stream",
     "text": [
      "train_val: 260, test: 43\n"
     ]
    }
   ],
   "source": [
    "# Task 2.2 - Split the data into 2 subsets and normalize the features of samples\n",
    "heart_data = df.drop('target', axis=1).values\n",
    "heart_disease = df['target'].values\n",
    "X_train_val, X_test, y_train_val, y_test = train_test_split(heart_data, heart_disease, \n",
    "                                                            test_size=0.14, \n",
    "                                                            random_state=0)\n",
    "print(\"train_val: {}, test: {}\".format(X_train_val.shape[0], X_test.shape[0]))\n",
    "\n",
    "normalizer = StandardScaler()\n",
    "X_train_val = normalizer.fit_transform(X_train_val)\n",
    "X_test = normalizer.transform(X_test)"
   ]
  },
  {
   "cell_type": "code",
   "execution_count": 16,
   "id": "3f24f107",
   "metadata": {},
   "outputs": [
    {
     "name": "stdout",
     "output_type": "stream",
     "text": [
      "0.823076923076923\n",
      "{'n_neighbors': 5}\n"
     ]
    }
   ],
   "source": [
    "# Task 2.3 - Train the KNN model and select the hyperparameter with cross-validation\n",
    "\n",
    "# Use the 5-fold cross-validation to select the hyperparameter\n",
    "# Select K from {1, 2, 3, 4, 5}\n",
    "k_range = range(1, 6)\n",
    "param_grid = dict(n_neighbors=k_range)\n",
    "\n",
    "clf_knn =  KNeighborsClassifier(n_neighbors=1)\n",
    "\n",
    "grid = GridSearchCV(clf_knn, param_grid, cv=5, scoring='accuracy')\n",
    "grid.fit(X_train_val, y_train_val)\n",
    "\n",
    "print(grid.best_score_)\n",
    "print(grid.best_params_)"
   ]
  },
  {
   "cell_type": "code",
   "execution_count": 17,
   "id": "c7adcb38",
   "metadata": {},
   "outputs": [
    {
     "name": "stdout",
     "output_type": "stream",
     "text": [
      "accuracy: 0.860, recall: 0.857, precision: 0.857, f1: 0.857\n"
     ]
    }
   ],
   "source": [
    "# Task 2.4 - Evaluate the learned model\n",
    "clf_knn =  KNeighborsClassifier(n_neighbors=grid.best_params_['n_neighbors'])\n",
    "clf_knn.fit(X_train_val, y_train_val)\n",
    "\n",
    "# Evaluate the model on the testing set\n",
    "y_test_pred = clf_knn.predict(X_test)\n",
    "\n",
    "# Metrics implementation\n",
    "def metrics(labels, predictions):\n",
    "    TP, FP, TN, FN = 0, 0, 0, 0\n",
    "    for i in range(len(labels)):\n",
    "        if labels[i] == predictions[i]:\n",
    "            if labels[i] == 1:\n",
    "                TP += 1\n",
    "            else:\n",
    "                TN += 1\n",
    "        else:\n",
    "            if labels[i] == 1:\n",
    "                FP += 1\n",
    "            else:\n",
    "                FN += 1\n",
    "    accuracy = (TP + TN) / (TP + FP + TN + FN)\n",
    "    recall = TP / (TP + FN)\n",
    "    precision = TP / (TP + FP)\n",
    "    f1_score = 2 * (precision * recall) / (precision + recall)\n",
    "    return accuracy, recall, precision, f1_score\n",
    "\n",
    "# Report the prediction accuracy, recall, precision, and F1 score\n",
    "accuracy, recall, precision, f1 = metrics(y_test, y_test_pred)\n",
    "\n",
    "print(\"accuracy: {:.3f}, recall: {:.3f}, precision: {:.3f}, f1: {:.3f}\".format(accuracy, recall, precision, f1))"
   ]
  }
 ],
 "metadata": {
  "kernelspec": {
   "display_name": "Python 3 (ipykernel)",
   "language": "python",
   "name": "python3"
  },
  "language_info": {
   "codemirror_mode": {
    "name": "ipython",
    "version": 3
   },
   "file_extension": ".py",
   "mimetype": "text/x-python",
   "name": "python",
   "nbconvert_exporter": "python",
   "pygments_lexer": "ipython3",
   "version": "3.9.13"
  }
 },
 "nbformat": 4,
 "nbformat_minor": 5
}

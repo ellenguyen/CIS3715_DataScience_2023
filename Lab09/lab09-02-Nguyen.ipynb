{
 "cells": [
  {
   "cell_type": "markdown",
   "id": "5839512e",
   "metadata": {},
   "source": [
    "## Elle Nguyen - CIS 3715 - Section 02\n",
    "### Lab 09 - Document Analysis"
   ]
  },
  {
   "cell_type": "markdown",
   "id": "4a0ca072",
   "metadata": {},
   "source": [
    "Importing libraries"
   ]
  },
  {
   "cell_type": "code",
   "execution_count": 1,
   "id": "4b8784b3",
   "metadata": {},
   "outputs": [],
   "source": [
    "import numpy as np\n",
    "import pandas as pd\n",
    "import matplotlib.pyplot as plt\n",
    "from sklearn.feature_extraction.text import TfidfVectorizer\n",
    "from sklearn.preprocessing import StandardScaler\n",
    "from sklearn.model_selection import train_test_split, GridSearchCV\n",
    "from sklearn.neighbors import KNeighborsClassifier\n",
    "from sklearn.metrics import accuracy_score, f1_score\n",
    "from sklearn.linear_model import LogisticRegression\n",
    "from sklearn.cluster import KMeans\n",
    "from sklearn.cluster import AgglomerativeClustering\n",
    "from sklearn.metrics.cluster import normalized_mutual_info_score\n",
    "\n",
    "import warnings\n",
    "warnings.simplefilter(action='ignore', category=FutureWarning)"
   ]
  },
  {
   "cell_type": "markdown",
   "id": "ef15f39c",
   "metadata": {},
   "source": [
    "### Task 2.1 - Load data and represent it with TF-IDF representation"
   ]
  },
  {
   "cell_type": "markdown",
   "id": "ad93f443",
   "metadata": {},
   "source": [
    "Load data"
   ]
  },
  {
   "cell_type": "code",
   "execution_count": 2,
   "id": "7303b18b",
   "metadata": {},
   "outputs": [],
   "source": [
    "df = pd.read_csv('BBC_News_Train.csv')"
   ]
  },
  {
   "cell_type": "code",
   "execution_count": 3,
   "id": "f353670a",
   "metadata": {},
   "outputs": [
    {
     "data": {
      "text/html": [
       "<div>\n",
       "<style scoped>\n",
       "    .dataframe tbody tr th:only-of-type {\n",
       "        vertical-align: middle;\n",
       "    }\n",
       "\n",
       "    .dataframe tbody tr th {\n",
       "        vertical-align: top;\n",
       "    }\n",
       "\n",
       "    .dataframe thead th {\n",
       "        text-align: right;\n",
       "    }\n",
       "</style>\n",
       "<table border=\"1\" class=\"dataframe\">\n",
       "  <thead>\n",
       "    <tr style=\"text-align: right;\">\n",
       "      <th></th>\n",
       "      <th>ArticleId</th>\n",
       "      <th>Text</th>\n",
       "      <th>Category</th>\n",
       "    </tr>\n",
       "  </thead>\n",
       "  <tbody>\n",
       "    <tr>\n",
       "      <th>0</th>\n",
       "      <td>1833</td>\n",
       "      <td>worldcom ex-boss launches defence lawyers defe...</td>\n",
       "      <td>business</td>\n",
       "    </tr>\n",
       "    <tr>\n",
       "      <th>1</th>\n",
       "      <td>154</td>\n",
       "      <td>german business confidence slides german busin...</td>\n",
       "      <td>business</td>\n",
       "    </tr>\n",
       "    <tr>\n",
       "      <th>2</th>\n",
       "      <td>1101</td>\n",
       "      <td>bbc poll indicates economic gloom citizens in ...</td>\n",
       "      <td>business</td>\n",
       "    </tr>\n",
       "    <tr>\n",
       "      <th>3</th>\n",
       "      <td>1976</td>\n",
       "      <td>lifestyle  governs mobile choice  faster  bett...</td>\n",
       "      <td>tech</td>\n",
       "    </tr>\n",
       "    <tr>\n",
       "      <th>4</th>\n",
       "      <td>917</td>\n",
       "      <td>enron bosses in $168m payout eighteen former e...</td>\n",
       "      <td>business</td>\n",
       "    </tr>\n",
       "  </tbody>\n",
       "</table>\n",
       "</div>"
      ],
      "text/plain": [
       "   ArticleId                                               Text  Category\n",
       "0       1833  worldcom ex-boss launches defence lawyers defe...  business\n",
       "1        154  german business confidence slides german busin...  business\n",
       "2       1101  bbc poll indicates economic gloom citizens in ...  business\n",
       "3       1976  lifestyle  governs mobile choice  faster  bett...      tech\n",
       "4        917  enron bosses in $168m payout eighteen former e...  business"
      ]
     },
     "execution_count": 3,
     "metadata": {},
     "output_type": "execute_result"
    }
   ],
   "source": [
    "df.head()"
   ]
  },
  {
   "cell_type": "code",
   "execution_count": 4,
   "id": "e7810dd8",
   "metadata": {},
   "outputs": [
    {
     "name": "stdout",
     "output_type": "stream",
     "text": [
      "<class 'pandas.core.frame.DataFrame'>\n",
      "RangeIndex: 1490 entries, 0 to 1489\n",
      "Data columns (total 3 columns):\n",
      " #   Column     Non-Null Count  Dtype \n",
      "---  ------     --------------  ----- \n",
      " 0   ArticleId  1490 non-null   int64 \n",
      " 1   Text       1490 non-null   object\n",
      " 2   Category   1490 non-null   object\n",
      "dtypes: int64(1), object(2)\n",
      "memory usage: 35.0+ KB\n"
     ]
    }
   ],
   "source": [
    "df.info()"
   ]
  },
  {
   "cell_type": "markdown",
   "id": "5aad6a3c",
   "metadata": {},
   "source": [
    "Split into 2 subsets of training and testing set"
   ]
  },
  {
   "cell_type": "code",
   "execution_count": 5,
   "id": "9c8b3464",
   "metadata": {},
   "outputs": [],
   "source": [
    "df_train, df_test = train_test_split(df, test_size=0.15, random_state=42)"
   ]
  },
  {
   "cell_type": "code",
   "execution_count": 6,
   "id": "d1051336",
   "metadata": {},
   "outputs": [
    {
     "data": {
      "text/plain": [
       "\"Train data target names: ['entertainment' 'tech' 'business' 'politics' 'sport']\""
      ]
     },
     "execution_count": 6,
     "metadata": {},
     "output_type": "execute_result"
    }
   ],
   "source": [
    "f'Train data target names: {df_train[\"Category\"].unique()}'"
   ]
  },
  {
   "cell_type": "code",
   "execution_count": 7,
   "id": "eacde435",
   "metadata": {},
   "outputs": [
    {
     "data": {
      "text/plain": [
       "'#training samples: 1266'"
      ]
     },
     "execution_count": 7,
     "metadata": {},
     "output_type": "execute_result"
    }
   ],
   "source": [
    "f'#training samples: {len(df_train)}'"
   ]
  },
  {
   "cell_type": "code",
   "execution_count": 8,
   "id": "b1c0d8bd",
   "metadata": {},
   "outputs": [
    {
     "data": {
      "text/plain": [
       "'#testing samples: 224'"
      ]
     },
     "execution_count": 8,
     "metadata": {},
     "output_type": "execute_result"
    }
   ],
   "source": [
    "f'#testing samples: {len(df_test)}'"
   ]
  },
  {
   "cell_type": "markdown",
   "id": "0aa23ef6",
   "metadata": {},
   "source": [
    "Represent data with TF-IDF representation"
   ]
  },
  {
   "cell_type": "code",
   "execution_count": 9,
   "id": "bda70ade",
   "metadata": {},
   "outputs": [],
   "source": [
    "vectorizer = TfidfVectorizer(stop_words='english')\n",
    "df_train_vectors = vectorizer.fit_transform(df_train[\"Text\"])\n",
    "df_test_vectors = vectorizer.transform(df_test[\"Text\"]) "
   ]
  },
  {
   "cell_type": "code",
   "execution_count": 10,
   "id": "1b36f918",
   "metadata": {},
   "outputs": [
    {
     "data": {
      "text/plain": [
       "'(1266, 22864), (224, 22864)'"
      ]
     },
     "execution_count": 10,
     "metadata": {},
     "output_type": "execute_result"
    }
   ],
   "source": [
    "f'{df_train_vectors.shape}, {df_test_vectors.shape}'"
   ]
  },
  {
   "cell_type": "markdown",
   "id": "599ae290",
   "metadata": {},
   "source": [
    "### Task 2.2 - Use KNN to do document classification"
   ]
  },
  {
   "cell_type": "code",
   "execution_count": 11,
   "id": "a9c46f95",
   "metadata": {},
   "outputs": [
    {
     "data": {
      "text/plain": [
       "GridSearchCV(cv=5, estimator=KNeighborsClassifier(n_neighbors=1),\n",
       "             param_grid={'n_neighbors': range(1, 5)}, scoring='accuracy')"
      ]
     },
     "execution_count": 11,
     "metadata": {},
     "output_type": "execute_result"
    }
   ],
   "source": [
    "Xtr = df_train_vectors\n",
    "Ytr = df_train['Category']\n",
    "\n",
    "Xte = df_test_vectors\n",
    "Yte = df_test['Category']\n",
    "\n",
    "k_range = range(1, 5)\n",
    "param_grid = dict(n_neighbors=k_range)\n",
    "\n",
    "clf_knn =  KNeighborsClassifier(n_neighbors=1)\n",
    "\n",
    "grid = GridSearchCV(clf_knn, param_grid, cv=5, scoring='accuracy')\n",
    "grid.fit(Xtr, Ytr)"
   ]
  },
  {
   "cell_type": "code",
   "execution_count": 12,
   "id": "32d3ad65",
   "metadata": {},
   "outputs": [
    {
     "data": {
      "text/plain": [
       "'0.9296878404033488'"
      ]
     },
     "execution_count": 12,
     "metadata": {},
     "output_type": "execute_result"
    }
   ],
   "source": [
    "f'{grid.best_score_}'"
   ]
  },
  {
   "cell_type": "code",
   "execution_count": 13,
   "id": "1d921ba1",
   "metadata": {},
   "outputs": [
    {
     "data": {
      "text/plain": [
       "\"{'n_neighbors': 4}\""
      ]
     },
     "execution_count": 13,
     "metadata": {},
     "output_type": "execute_result"
    }
   ],
   "source": [
    "f'{grid.best_params_}'"
   ]
  },
  {
   "cell_type": "markdown",
   "id": "756fa829",
   "metadata": {},
   "source": [
    "Testing"
   ]
  },
  {
   "cell_type": "code",
   "execution_count": 14,
   "id": "a4ff4c48",
   "metadata": {},
   "outputs": [],
   "source": [
    "clf_knn =  KNeighborsClassifier(n_neighbors=grid.best_params_['n_neighbors'])\n",
    "clf_knn.fit(Xtr, Ytr)\n",
    "\n",
    "y_pred = clf_knn.predict(Xte)"
   ]
  },
  {
   "cell_type": "markdown",
   "id": "3ada3fc3",
   "metadata": {},
   "source": [
    "Performance"
   ]
  },
  {
   "cell_type": "code",
   "execution_count": 15,
   "id": "dc2e6fe9",
   "metadata": {},
   "outputs": [
    {
     "data": {
      "text/plain": [
       "'0.9464285714285714, 0.9442512742303932, 0.9464285714285714'"
      ]
     },
     "execution_count": 15,
     "metadata": {},
     "output_type": "execute_result"
    }
   ],
   "source": [
    "acc = accuracy_score(Yte, y_pred)\n",
    "macro_f1 = f1_score(Yte, y_pred, average='macro')\n",
    "micro_f1 = f1_score(Yte, y_pred, average='micro')\n",
    "\n",
    "f'{acc}, {macro_f1}, {micro_f1}'"
   ]
  },
  {
   "cell_type": "markdown",
   "id": "a105c160",
   "metadata": {},
   "source": [
    "### Task 2.3 - Use Logistic Regression to do document classification"
   ]
  },
  {
   "cell_type": "markdown",
   "id": "c460e767",
   "metadata": {},
   "source": [
    "Training with cross validation"
   ]
  },
  {
   "cell_type": "code",
   "execution_count": 16,
   "id": "18278681",
   "metadata": {},
   "outputs": [
    {
     "data": {
      "text/plain": [
       "GridSearchCV(cv=5, estimator=LogisticRegression(),\n",
       "             param_grid={'C': range(1, 10)}, scoring='accuracy')"
      ]
     },
     "execution_count": 16,
     "metadata": {},
     "output_type": "execute_result"
    }
   ],
   "source": [
    "coeff = range(1, 10)\n",
    "param_grid = dict(C=coeff)\n",
    "\n",
    "clf_lr = LogisticRegression(penalty='l2')\n",
    "\n",
    "grid = GridSearchCV(clf_lr, param_grid, cv=5, scoring='accuracy')\n",
    "grid.fit(Xtr, Ytr)"
   ]
  },
  {
   "cell_type": "code",
   "execution_count": 17,
   "id": "976ee397",
   "metadata": {},
   "outputs": [
    {
     "data": {
      "text/plain": [
       "\"{'C': 5}\""
      ]
     },
     "execution_count": 17,
     "metadata": {},
     "output_type": "execute_result"
    }
   ],
   "source": [
    "f'{grid.best_params_}'"
   ]
  },
  {
   "cell_type": "markdown",
   "id": "e8795b34",
   "metadata": {},
   "source": [
    "Testing"
   ]
  },
  {
   "cell_type": "code",
   "execution_count": 18,
   "id": "ad19baa9",
   "metadata": {},
   "outputs": [],
   "source": [
    "clf_lr = LogisticRegression(penalty='l2', C=grid.best_params_['C'])\n",
    "clf_lr.fit(Xtr, Ytr)\n",
    "\n",
    "y_pred = clf_lr.predict(Xte)"
   ]
  },
  {
   "cell_type": "markdown",
   "id": "8a3ca03a",
   "metadata": {},
   "source": [
    "Performance"
   ]
  },
  {
   "cell_type": "code",
   "execution_count": 19,
   "id": "6d7b0164",
   "metadata": {},
   "outputs": [
    {
     "data": {
      "text/plain": [
       "'0.9732142857142857, 0.9737690086489567, 0.9732142857142857'"
      ]
     },
     "execution_count": 19,
     "metadata": {},
     "output_type": "execute_result"
    }
   ],
   "source": [
    "acc = accuracy_score(Yte, y_pred)\n",
    "macro_f1 = f1_score(Yte, y_pred, average='macro')\n",
    "micro_f1 = f1_score(Yte, y_pred, average='micro')\n",
    "\n",
    "f'{acc}, {macro_f1}, {micro_f1}'"
   ]
  },
  {
   "cell_type": "markdown",
   "id": "3ed7910e",
   "metadata": {},
   "source": [
    "### Task 2.4 - Use K-means to do document clustering and find the 10 most representative words in each cluster"
   ]
  },
  {
   "cell_type": "markdown",
   "id": "6ecf16db",
   "metadata": {},
   "source": [
    "Use K-means to partition this dataset into 5 clusters"
   ]
  },
  {
   "cell_type": "code",
   "execution_count": 20,
   "id": "9621e474",
   "metadata": {},
   "outputs": [],
   "source": [
    "cluster = KMeans(n_clusters=5, random_state=42).fit(Xtr)"
   ]
  },
  {
   "cell_type": "markdown",
   "id": "7b4dbfc7",
   "metadata": {},
   "source": [
    "Get the clustering centroids"
   ]
  },
  {
   "cell_type": "code",
   "execution_count": 21,
   "id": "38c44c2b",
   "metadata": {},
   "outputs": [],
   "source": [
    "centroids = cluster.cluster_centers_"
   ]
  },
  {
   "cell_type": "markdown",
   "id": "7025b72c",
   "metadata": {},
   "source": [
    "Get the top 10 most representative words in each cluster"
   ]
  },
  {
   "cell_type": "code",
   "execution_count": 22,
   "id": "2145e0ab",
   "metadata": {},
   "outputs": [
    {
     "name": "stdout",
     "output_type": "stream",
     "text": [
      "Cluster 0:\n",
      " mr\n",
      " labour\n",
      " election\n",
      " blair\n",
      " said\n",
      " party\n",
      " government\n",
      " brown\n",
      " minister\n",
      " howard\n",
      "\n",
      "Cluster 1:\n",
      " england\n",
      " game\n",
      " said\n",
      " win\n",
      " cup\n",
      " season\n",
      " chelsea\n",
      " match\n",
      " world\n",
      " injury\n",
      "\n",
      "Cluster 2:\n",
      " said\n",
      " people\n",
      " music\n",
      " mobile\n",
      " mr\n",
      " new\n",
      " uk\n",
      " software\n",
      " tv\n",
      " phone\n",
      "\n",
      "Cluster 3:\n",
      " said\n",
      " growth\n",
      " economy\n",
      " bank\n",
      " year\n",
      " oil\n",
      " market\n",
      " firm\n",
      " mr\n",
      " economic\n",
      "\n",
      "Cluster 4:\n",
      " film\n",
      " best\n",
      " awards\n",
      " actor\n",
      " award\n",
      " festival\n",
      " films\n",
      " oscar\n",
      " director\n",
      " actress\n",
      "\n"
     ]
    }
   ],
   "source": [
    "order_centroids = centroids.argsort()[:, ::-1]\n",
    "terms = vectorizer.get_feature_names()\n",
    "\n",
    "for i in range(5):\n",
    "    print(\"Cluster %d:\" % i),\n",
    "    for ind in order_centroids[i, :10]:\n",
    "        print(' %s' % terms[ind])\n",
    "    print('')"
   ]
  }
 ],
 "metadata": {
  "kernelspec": {
   "display_name": "Python 3 (ipykernel)",
   "language": "python",
   "name": "python3"
  },
  "language_info": {
   "codemirror_mode": {
    "name": "ipython",
    "version": 3
   },
   "file_extension": ".py",
   "mimetype": "text/x-python",
   "name": "python",
   "nbconvert_exporter": "python",
   "pygments_lexer": "ipython3",
   "version": "3.9.13"
  }
 },
 "nbformat": 4,
 "nbformat_minor": 5
}
